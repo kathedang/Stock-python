  {
   "cell_type": "markdown",
   "id": "8977e55b-b6da-4fa0-acd5-e10b1a0e8133",
   "metadata": {},
   "source": [
    "### Business Analytics and Python Programming"
   ]
  },
  {
   "cell_type": "markdown",
   "id": "c410955c-716f-4bde-b8de-ed8c216acd9a",
   "metadata": {},
   "source": [
    "###\n",
    "### QUESTION 1. FETCH DATA"
   ]
  },
  {
   "cell_type": "code",
   "execution_count": 1,
   "id": "84d97eea-e786-4f1d-b08d-d31f9b6051a7",
   "metadata": {},
   "outputs": [],
   "source": [
    "#Stock lists include 'ADBE', 'AEP', 'CSCO', 'EXC', 'GOOGL', 'INTC', 'LNT', 'MSFT', 'STLD', 'TMUS', 'TWTR', 'XEL'.\n",
    "#Please fetch data of ROE and beta of the above stock into the same table"
   ]
  },
  {
   "cell_type": "code",
   "execution_count": 2,
   "id": "253e3d68-845d-4f31-90fa-411dab31401f",
   "metadata": {},
   "outputs": [
    {
     "name": "stdout",
     "output_type": "stream",
     "text": [
      "Requirement already satisfied: yfinance in /opt/anaconda3/lib/python3.9/site-packages (0.1.87)\n",
      "Requirement already satisfied: appdirs>=1.4.4 in /opt/anaconda3/lib/python3.9/site-packages (from yfinance) (1.4.4)\n",
      "Requirement already satisfied: multitasking>=0.0.7 in /opt/anaconda3/lib/python3.9/site-packages (from yfinance) (0.0.11)\n",
      "Requirement already satisfied: numpy>=1.15 in /opt/anaconda3/lib/python3.9/site-packages (from yfinance) (1.21.5)\n",
      "Requirement already satisfied: pandas>=0.24.0 in /opt/anaconda3/lib/python3.9/site-packages (from yfinance) (1.4.2)\n",
      "Requirement already satisfied: lxml>=4.5.1 in /opt/anaconda3/lib/python3.9/site-packages (from yfinance) (4.8.0)\n",
      "Requirement already satisfied: requests>=2.26 in /opt/anaconda3/lib/python3.9/site-packages (from yfinance) (2.27.1)\n",
      "Requirement already satisfied: python-dateutil>=2.8.1 in /opt/anaconda3/lib/python3.9/site-packages (from pandas>=0.24.0->yfinance) (2.8.2)\n",
      "Requirement already satisfied: pytz>=2020.1 in /opt/anaconda3/lib/python3.9/site-packages (from pandas>=0.24.0->yfinance) (2021.3)\n",
      "Requirement already satisfied: six>=1.5 in /opt/anaconda3/lib/python3.9/site-packages (from python-dateutil>=2.8.1->pandas>=0.24.0->yfinance) (1.16.0)\n",
      "Requirement already satisfied: urllib3<1.27,>=1.21.1 in /opt/anaconda3/lib/python3.9/site-packages (from requests>=2.26->yfinance) (1.26.9)\n",
      "Requirement already satisfied: charset-normalizer~=2.0.0 in /opt/anaconda3/lib/python3.9/site-packages (from requests>=2.26->yfinance) (2.0.4)\n",
      "Requirement already satisfied: certifi>=2017.4.17 in /opt/anaconda3/lib/python3.9/site-packages (from requests>=2.26->yfinance) (2021.10.8)\n",
      "Requirement already satisfied: idna<4,>=2.5 in /opt/anaconda3/lib/python3.9/site-packages (from requests>=2.26->yfinance) (3.3)\n"
     ]
    },
    {
     "data": {
      "text/plain": [
       "('ADBE',\n",
       " 'AEP',\n",
       " 'CSCO',\n",
       " 'EXC',\n",
       " 'GOOGL',\n",
       " 'INTC',\n",
       " 'LNT',\n",
       " 'MSFT',\n",
       " 'STLD',\n",
       " 'TMUS',\n",
       " 'TWTR',\n",
       " 'XEL')"
      ]
     },
     "execution_count": 2,
     "metadata": {},
     "output_type": "execute_result"
    }
   ],
   "source": [
    "!pip install yfinance\n",
    "\n",
    "import pandas as pd\n",
    "import numpy as np\n",
    "import warnings\n",
    "warnings.filterwarnings(\"ignore\")\n",
    "\n",
    "import matplotlib.pyplot as plt\n",
    "%matplotlib inline\n",
    "plt.style.use(\"seaborn-darkgrid\")\n",
    "\n",
    "import yfinance as yf\n",
    "\n",
    "stock_list = (\"ADBE\",\"AEP\",\"CSCO\",\"EXC\",\"GOOGL\",\"INTC\",\"LNT\",\"MSFT\",\"STLD\",\"TMUS\",\"TWTR\",\"XEL\")\n",
    "stock_list"
   ]
  },
  {
   "cell_type": "code",
   "execution_count": 3,
   "id": "3a6b8d06-0c83-4d75-8eeb-3436cc5093b1",
   "metadata": {},
   "outputs": [
    {
     "name": "stdout",
     "output_type": "stream",
     "text": [
      "Downloaded: ADBE\n",
      "Downloaded: AEP\n",
      "Downloaded: CSCO\n",
      "Downloaded: EXC\n",
      "Downloaded: GOOGL\n",
      "Downloaded: INTC\n",
      "Downloaded: LNT\n",
      "Downloaded: MSFT\n",
      "Downloaded: STLD\n",
      "Downloaded: TMUS\n",
      "Downloaded: TWTR\n",
      "Downloaded: XEL\n"
     ]
    }
   ],
   "source": [
    "# Fetching the features data(ROE and Beta) for each of the 12 stocks from Yahoo \n",
    "DF = pd.DataFrame(columns=[\"ROE(%)\",\"Beta\"])\n",
    "bad_tickers = []\n",
    "\n",
    "for i in stock_list:\n",
    "    \n",
    "    stock = yf.Ticker(i)\n",
    "    try:\n",
    "        ROE = stock.financials.loc[\"Net Income\"]/stock.balance_sheet.loc[\"Total Stockholder Equity\"]*100\n",
    "        Mean_ROE = pd.Series(ROE.mean())\n",
    "        Beta = pd.Series(stock.get_info()[\"beta\"])\n",
    "\n",
    "        values_to_add = {\"ROE(%)\": Mean_ROE.values[0].round(2), \"Beta\": Beta.values[0].round(2)}\n",
    "        row_to_add = pd.Series(values_to_add, name=i)\n",
    "        DF = DF.append(row_to_add)\n",
    "        print(\"Downloaded:\",i)\n",
    "    except:\n",
    "        bad_tickers.append(i)"
   ]
  },
  {
   "cell_type": "code",
   "execution_count": 4,
   "id": "6f5a751c-67d6-47a6-b1d2-cbdf5c6588d5",
   "metadata": {},
   "outputs": [
    {
     "data": {
      "text/plain": [
       "[]"
      ]
     },
     "execution_count": 4,
     "metadata": {},
     "output_type": "execute_result"
    }
   ],
   "source": [
    "bad_tickers"
   ]
  },
  {
   "cell_type": "code",
   "execution_count": 5,
   "id": "a56b46e8-559c-4dc6-a0cd-2bf560424d79",
   "metadata": {},
   "outputs": [
    {
     "data": {
      "text/html": [
       "<div>\n",
       "<style scoped>\n",
       "    .dataframe tbody tr th:only-of-type {\n",
       "        vertical-align: middle;\n",
       "    }\n",
       "\n",
       "    .dataframe tbody tr th {\n",
       "        vertical-align: top;\n",
       "    }\n",
       "\n",
       "    .dataframe thead th {\n",
       "        text-align: right;\n",
       "    }\n",
       "</style>\n",
       "<table border=\"1\" class=\"dataframe\">\n",
       "  <thead>\n",
       "    <tr style=\"text-align: right;\">\n",
       "      <th></th>\n",
       "      <th>ROE(%)</th>\n",
       "      <th>Beta</th>\n",
       "    </tr>\n",
       "  </thead>\n",
       "  <tbody>\n",
       "    <tr>\n",
       "      <th>ADBE</th>\n",
       "      <td>31.99</td>\n",
       "      <td>1.25</td>\n",
       "    </tr>\n",
       "    <tr>\n",
       "      <th>AEP</th>\n",
       "      <td>10.42</td>\n",
       "      <td>0.42</td>\n",
       "    </tr>\n",
       "    <tr>\n",
       "      <th>CSCO</th>\n",
       "      <td>29.89</td>\n",
       "      <td>0.98</td>\n",
       "    </tr>\n",
       "    <tr>\n",
       "      <th>EXC</th>\n",
       "      <td>6.65</td>\n",
       "      <td>0.63</td>\n",
       "    </tr>\n",
       "    <tr>\n",
       "      <th>GOOGL</th>\n",
       "      <td>20.67</td>\n",
       "      <td>1.06</td>\n",
       "    </tr>\n",
       "    <tr>\n",
       "      <th>INTC</th>\n",
       "      <td>25.5</td>\n",
       "      <td>0.74</td>\n",
       "    </tr>\n",
       "    <tr>\n",
       "      <th>LNT</th>\n",
       "      <td>10.92</td>\n",
       "      <td>0.49</td>\n",
       "    </tr>\n",
       "    <tr>\n",
       "      <th>MSFT</th>\n",
       "      <td>40.65</td>\n",
       "      <td>0.93</td>\n",
       "    </tr>\n",
       "    <tr>\n",
       "      <th>STLD</th>\n",
       "      <td>28.03</td>\n",
       "      <td>1.47</td>\n",
       "    </tr>\n",
       "    <tr>\n",
       "      <th>TMUS</th>\n",
       "      <td>8.2</td>\n",
       "      <td>0.54</td>\n",
       "    </tr>\n",
       "    <tr>\n",
       "      <th>TWTR</th>\n",
       "      <td>4.32</td>\n",
       "      <td>0.53</td>\n",
       "    </tr>\n",
       "    <tr>\n",
       "      <th>XEL</th>\n",
       "      <td>10.25</td>\n",
       "      <td>0.41</td>\n",
       "    </tr>\n",
       "  </tbody>\n",
       "</table>\n",
       "</div>"
      ],
      "text/plain": [
       "      ROE(%)  Beta\n",
       "ADBE   31.99  1.25\n",
       "AEP    10.42  0.42\n",
       "CSCO   29.89  0.98\n",
       "EXC     6.65  0.63\n",
       "GOOGL  20.67  1.06\n",
       "INTC    25.5  0.74\n",
       "LNT    10.92  0.49\n",
       "MSFT   40.65  0.93\n",
       "STLD   28.03  1.47\n",
       "TMUS     8.2  0.54\n",
       "TWTR    4.32  0.53\n",
       "XEL    10.25  0.41"
      ]
     },
     "execution_count": 5,
     "metadata": {},
     "output_type": "execute_result"
    }
   ],
   "source": [
    "DF"
   ]
  },
  {
   "cell_type": "markdown",
   "id": "084b27ee-7954-4ffe-a632-888f2c313bed",
   "metadata": {},
   "source": [
    "###\n",
    "### QUESTION 2. SCALE THE DATA TO STANDARD NORMAL DISTRIBUTION"
   ]
  },
  {
   "cell_type": "code",
   "execution_count": 6,
   "id": "24bb9a1d-2325-49e3-937d-edeb2d2bd6e9",
   "metadata": {},
   "outputs": [],
   "source": [
    "#Scale the data of ROE and beta to standard normal distribution. Show the standardized table."
   ]
  },
  {
   "cell_type": "code",
   "execution_count": 7,
   "id": "3125824f-6bb9-463d-a75b-652e5f38bb90",
   "metadata": {},
   "outputs": [
    {
     "name": "stdout",
     "output_type": "stream",
     "text": [
      "[[ 1.13478387  1.38818124]\n",
      " [-0.74338901 -1.10304131]\n",
      " [ 0.95192976  0.57778354]\n",
      " [-1.07165566 -0.47273199]\n",
      " [ 0.14911317  0.81790138]\n",
      " [ 0.56967761 -0.14256997]\n",
      " [-0.69985232 -0.89293821]\n",
      " [ 1.88883936  0.4277099 ]\n",
      " [ 0.78997327  2.04850529]\n",
      " [-0.93669192 -0.74286456]\n",
      " [-1.27453665 -0.77287929]\n",
      " [-0.75819148 -1.13305604]]\n"
     ]
    }
   ],
   "source": [
    "df = DF.copy()\n",
    "from sklearn.preprocessing import StandardScaler\n",
    "scaler = StandardScaler()\n",
    "df_values = scaler.fit_transform(df.values)\n",
    "print(df_values)"
   ]
  },
  {
   "cell_type": "markdown",
   "id": "3e7dc991-61ae-4b8d-b059-910d24d4f01a",
   "metadata": {},
   "source": [
    "###\n",
    "### QUESTION 3. APPLY K-MEAN CLUSTERING"
   ]
  },
  {
   "cell_type": "code",
   "execution_count": 8,
   "id": "3bca4a2c-4740-4a7b-ba38-1b3424fcd1dd",
   "metadata": {},
   "outputs": [],
   "source": [
    "#Assume k = 2, apply k-mean cluster analysis to scan the stock group into two clusters.\n",
    "#Show the cluster table."
   ]
  },
  {
   "cell_type": "code",
   "execution_count": 9,
   "id": "6a88bf89-486d-4056-b474-0d877ba92fab",
   "metadata": {},
   "outputs": [],
   "source": [
    "from sklearn.cluster import KMeans\n",
    "km_model = KMeans(n_clusters=2).fit(df_values)"
   ]
  },
  {
   "cell_type": "code",
   "execution_count": 10,
   "id": "a242d1f1-503e-44b4-a46e-b9ceeeff01ac",
   "metadata": {},
   "outputs": [
    {
     "data": {
      "text/html": [
       "<div>\n",
       "<style scoped>\n",
       "    .dataframe tbody tr th:only-of-type {\n",
       "        vertical-align: middle;\n",
       "    }\n",
       "\n",
       "    .dataframe tbody tr th {\n",
       "        vertical-align: top;\n",
       "    }\n",
       "\n",
       "    .dataframe thead th {\n",
       "        text-align: right;\n",
       "    }\n",
       "</style>\n",
       "<table border=\"1\" class=\"dataframe\">\n",
       "  <thead>\n",
       "    <tr style=\"text-align: right;\">\n",
       "      <th></th>\n",
       "      <th>ROE(%)</th>\n",
       "      <th>Beta</th>\n",
       "      <th>cluster</th>\n",
       "    </tr>\n",
       "  </thead>\n",
       "  <tbody>\n",
       "    <tr>\n",
       "      <th>ADBE</th>\n",
       "      <td>31.99</td>\n",
       "      <td>1.25</td>\n",
       "      <td>0</td>\n",
       "    </tr>\n",
       "    <tr>\n",
       "      <th>AEP</th>\n",
       "      <td>10.42</td>\n",
       "      <td>0.42</td>\n",
       "      <td>1</td>\n",
       "    </tr>\n",
       "    <tr>\n",
       "      <th>CSCO</th>\n",
       "      <td>29.89</td>\n",
       "      <td>0.98</td>\n",
       "      <td>0</td>\n",
       "    </tr>\n",
       "    <tr>\n",
       "      <th>EXC</th>\n",
       "      <td>6.65</td>\n",
       "      <td>0.63</td>\n",
       "      <td>1</td>\n",
       "    </tr>\n",
       "    <tr>\n",
       "      <th>GOOGL</th>\n",
       "      <td>20.67</td>\n",
       "      <td>1.06</td>\n",
       "      <td>0</td>\n",
       "    </tr>\n",
       "    <tr>\n",
       "      <th>INTC</th>\n",
       "      <td>25.5</td>\n",
       "      <td>0.74</td>\n",
       "      <td>0</td>\n",
       "    </tr>\n",
       "    <tr>\n",
       "      <th>LNT</th>\n",
       "      <td>10.92</td>\n",
       "      <td>0.49</td>\n",
       "      <td>1</td>\n",
       "    </tr>\n",
       "    <tr>\n",
       "      <th>MSFT</th>\n",
       "      <td>40.65</td>\n",
       "      <td>0.93</td>\n",
       "      <td>0</td>\n",
       "    </tr>\n",
       "    <tr>\n",
       "      <th>STLD</th>\n",
       "      <td>28.03</td>\n",
       "      <td>1.47</td>\n",
       "      <td>0</td>\n",
       "    </tr>\n",
       "    <tr>\n",
       "      <th>TMUS</th>\n",
       "      <td>8.2</td>\n",
       "      <td>0.54</td>\n",
       "      <td>1</td>\n",
       "    </tr>\n",
       "    <tr>\n",
       "      <th>TWTR</th>\n",
       "      <td>4.32</td>\n",
       "      <td>0.53</td>\n",
       "      <td>1</td>\n",
       "    </tr>\n",
       "    <tr>\n",
       "      <th>XEL</th>\n",
       "      <td>10.25</td>\n",
       "      <td>0.41</td>\n",
       "      <td>1</td>\n",
       "    </tr>\n",
       "  </tbody>\n",
       "</table>\n",
       "</div>"
      ],
      "text/plain": [
       "      ROE(%)  Beta  cluster\n",
       "ADBE   31.99  1.25        0\n",
       "AEP    10.42  0.42        1\n",
       "CSCO   29.89  0.98        0\n",
       "EXC     6.65  0.63        1\n",
       "GOOGL  20.67  1.06        0\n",
       "INTC    25.5  0.74        0\n",
       "LNT    10.92  0.49        1\n",
       "MSFT   40.65  0.93        0\n",
       "STLD   28.03  1.47        0\n",
       "TMUS     8.2  0.54        1\n",
       "TWTR    4.32  0.53        1\n",
       "XEL    10.25  0.41        1"
      ]
     },
     "execution_count": 10,
     "metadata": {},
     "output_type": "execute_result"
    }
   ],
   "source": [
    "clusters = km_model.labels_\n",
    "df[\"cluster\"]=clusters\n",
    "df"
   ]
  },
  {
   "cell_type": "markdown",
   "id": "133a5d70-8381-4e98-b28b-53b71e689d2c",
   "metadata": {},
   "source": [
    "###\n",
    "### QUESTION 4. CLUSTER VISUALISATION"
   ]
  },
  {
   "cell_type": "code",
   "execution_count": 11,
   "id": "852dc579-fdf6-407b-9a7d-643ff6083894",
   "metadata": {},
   "outputs": [],
   "source": [
    "#Visualise all stocks in two clusters with beta on the x-axis and ROE on the y-axis. "
   ]
  },
  {
   "cell_type": "code",
   "execution_count": 12,
   "id": "24435ed9-3220-4dcc-b9ed-bb555f1a53e2",
   "metadata": {},
   "outputs": [
    {
     "data": {
      "image/png": "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\n",
      "text/plain": [
       "<Figure size 864x576 with 1 Axes>"
      ]
     },
     "metadata": {},
     "output_type": "display_data"
    }
   ],
   "source": [
    "import matplotlib.pyplot as plt \n",
    "import seaborn as sns\n",
    "\n",
    "plt.figure(figsize=(12, 8))\n",
    "\n",
    "sns.set_style(\"whitegrid\")\n",
    "ax = sns.scatterplot(y=\"ROE(%)\", x=\"Beta\", edgecolor=\"face\", hue=\"cluster\",data=df, palette = \"bright\",s=60)\n",
    "\n",
    "plt.xlabel(\"Beta\", size=17)\n",
    "plt.ylabel(\"ROE(%)\", size=17)\n",
    "plt.setp(ax.get_legend().get_texts(), fontsize=\"17\") # for text in legend\n",
    "plt.setp(ax.get_legend().get_title(), fontsize=\"17\") # for title in legend\n",
    "plt.title(\"CLUSTERS from k-means algorithm with k = 2\",fontsize=\"x-large\")\n",
    "\n",
    "\n",
    "for i in range(0,df.shape[0]):\n",
    "     plt.text(df.Beta[i]+0.07, df[\"ROE(%)\"][i]+0.01, df.index[i],horizontalalignment=\"right\",verticalalignment=\"bottom\", size=\"small\", color=\"black\", weight=\"semibold\")"
   ]
  },
  {
   "cell_type": "code",
   "execution_count": 13,
   "id": "a725729e-8fde-413f-872c-68321082d400",
   "metadata": {},
   "outputs": [],
   "source": [
    "#How is the similarity of stocks in term of industry?"
   ]
  },
  {
   "cell_type": "markdown",
   "id": "e44f4bc8-938d-4435-85b4-25a11a9357df",
   "metadata": {},
   "source": [
    "Cluster 1 includes the public utility companies which have a low ROE and a low Beta, compared to high growth tech companies in Cluster 0.\n",
    "We did not tell Python the industry of these company, it was able to discover the structure of data using cluster analysis."
   ]
  },
  {
   "cell_type": "markdown",
   "id": "3b017671-7a6e-4664-9086-641a0fae0ce3",
   "metadata": {},
   "source": [
    "### QUESTION 5. CORRELATION"
   ]
  },
  {
   "cell_type": "code",
   "execution_count": 14,
   "id": "aee0eaa5-9721-466d-8799-fe2c4dd2b84f",
   "metadata": {},
   "outputs": [],
   "source": [
    "#Now download the market prices of all stocks (Close prices) from 1st January 2010 to 30th December 2020.\n",
    "#Calculate the correlations of stocks in each group"
   ]
  },
  {
   "cell_type": "code",
   "execution_count": 15,
   "id": "4c30fc7b-5d54-4404-96f8-6b6757bbff92",
   "metadata": {},
   "outputs": [],
   "source": [
    "import pandas_datareader as web"
   ]
  },
  {
   "cell_type": "code",
   "execution_count": 16,
   "id": "0660e4d7-1c62-4043-8db8-7ab0ff6cdaa6",
   "metadata": {},
   "outputs": [
    {
     "name": "stdout",
     "output_type": "stream",
     "text": [
      "Correlations of group 1:\n"
     ]
    },
    {
     "data": {
      "text/html": [
       "<div>\n",
       "<style scoped>\n",
       "    .dataframe tbody tr th:only-of-type {\n",
       "        vertical-align: middle;\n",
       "    }\n",
       "\n",
       "    .dataframe tbody tr th {\n",
       "        vertical-align: top;\n",
       "    }\n",
       "\n",
       "    .dataframe thead tr th {\n",
       "        text-align: left;\n",
       "    }\n",
       "\n",
       "    .dataframe thead tr:last-of-type th {\n",
       "        text-align: right;\n",
       "    }\n",
       "</style>\n",
       "<table border=\"1\" class=\"dataframe\">\n",
       "  <thead>\n",
       "    <tr>\n",
       "      <th></th>\n",
       "      <th>Attributes</th>\n",
       "      <th colspan=\"6\" halign=\"left\">Close</th>\n",
       "    </tr>\n",
       "    <tr>\n",
       "      <th></th>\n",
       "      <th>Symbols</th>\n",
       "      <th>AEP</th>\n",
       "      <th>EXC</th>\n",
       "      <th>LNT</th>\n",
       "      <th>TMUS</th>\n",
       "      <th>TWTR</th>\n",
       "      <th>XEL</th>\n",
       "    </tr>\n",
       "    <tr>\n",
       "      <th>Attributes</th>\n",
       "      <th>Symbols</th>\n",
       "      <th></th>\n",
       "      <th></th>\n",
       "      <th></th>\n",
       "      <th></th>\n",
       "      <th></th>\n",
       "      <th></th>\n",
       "    </tr>\n",
       "  </thead>\n",
       "  <tbody>\n",
       "    <tr>\n",
       "      <th rowspan=\"6\" valign=\"top\">Close</th>\n",
       "      <th>AEP</th>\n",
       "      <td>1.000000</td>\n",
       "      <td>0.308458</td>\n",
       "      <td>0.990421</td>\n",
       "      <td>0.893995</td>\n",
       "      <td>-0.093195</td>\n",
       "      <td>0.972569</td>\n",
       "    </tr>\n",
       "    <tr>\n",
       "      <th>EXC</th>\n",
       "      <td>0.308458</td>\n",
       "      <td>1.000000</td>\n",
       "      <td>0.288240</td>\n",
       "      <td>0.314278</td>\n",
       "      <td>0.049029</td>\n",
       "      <td>0.335776</td>\n",
       "    </tr>\n",
       "    <tr>\n",
       "      <th>LNT</th>\n",
       "      <td>0.990421</td>\n",
       "      <td>0.288240</td>\n",
       "      <td>1.000000</td>\n",
       "      <td>0.923791</td>\n",
       "      <td>-0.100414</td>\n",
       "      <td>0.982802</td>\n",
       "    </tr>\n",
       "    <tr>\n",
       "      <th>TMUS</th>\n",
       "      <td>0.893995</td>\n",
       "      <td>0.314278</td>\n",
       "      <td>0.923791</td>\n",
       "      <td>1.000000</td>\n",
       "      <td>0.000762</td>\n",
       "      <td>0.953245</td>\n",
       "    </tr>\n",
       "    <tr>\n",
       "      <th>TWTR</th>\n",
       "      <td>-0.093195</td>\n",
       "      <td>0.049029</td>\n",
       "      <td>-0.100414</td>\n",
       "      <td>0.000762</td>\n",
       "      <td>1.000000</td>\n",
       "      <td>-0.041600</td>\n",
       "    </tr>\n",
       "    <tr>\n",
       "      <th>XEL</th>\n",
       "      <td>0.972569</td>\n",
       "      <td>0.335776</td>\n",
       "      <td>0.982802</td>\n",
       "      <td>0.953245</td>\n",
       "      <td>-0.041600</td>\n",
       "      <td>1.000000</td>\n",
       "    </tr>\n",
       "  </tbody>\n",
       "</table>\n",
       "</div>"
      ],
      "text/plain": [
       "Attributes             Close                                                  \n",
       "Symbols                  AEP       EXC       LNT      TMUS      TWTR       XEL\n",
       "Attributes Symbols                                                            \n",
       "Close      AEP      1.000000  0.308458  0.990421  0.893995 -0.093195  0.972569\n",
       "           EXC      0.308458  1.000000  0.288240  0.314278  0.049029  0.335776\n",
       "           LNT      0.990421  0.288240  1.000000  0.923791 -0.100414  0.982802\n",
       "           TMUS     0.893995  0.314278  0.923791  1.000000  0.000762  0.953245\n",
       "           TWTR    -0.093195  0.049029 -0.100414  0.000762  1.000000 -0.041600\n",
       "           XEL      0.972569  0.335776  0.982802  0.953245 -0.041600  1.000000"
      ]
     },
     "execution_count": 16,
     "metadata": {},
     "output_type": "execute_result"
    }
   ],
   "source": [
    "df1 = df[df[\"cluster\"] == 1]\n",
    "group1_stocks=web.get_data_yahoo(df1,\n",
    "                                 start = \"2010-01-01\",\n",
    "                                 end = \"2020-12-30\") \n",
    "group1_stocks = group1_stocks[[\"Close\"]]\n",
    "print(\"Correlations of group 1:\")\n",
    "group1_stocks.corr()"
   ]
  },
  {
   "cell_type": "code",
   "execution_count": 17,
   "id": "b2443bfa-0e80-4790-b20e-0c6a51d08cdb",
   "metadata": {},
   "outputs": [
    {
     "name": "stdout",
     "output_type": "stream",
     "text": [
      "Correlations of group 0:\n"
     ]
    },
    {
     "data": {
      "text/html": [
       "<div>\n",
       "<style scoped>\n",
       "    .dataframe tbody tr th:only-of-type {\n",
       "        vertical-align: middle;\n",
       "    }\n",
       "\n",
       "    .dataframe tbody tr th {\n",
       "        vertical-align: top;\n",
       "    }\n",
       "\n",
       "    .dataframe thead tr th {\n",
       "        text-align: left;\n",
       "    }\n",
       "\n",
       "    .dataframe thead tr:last-of-type th {\n",
       "        text-align: right;\n",
       "    }\n",
       "</style>\n",
       "<table border=\"1\" class=\"dataframe\">\n",
       "  <thead>\n",
       "    <tr>\n",
       "      <th></th>\n",
       "      <th>Attributes</th>\n",
       "      <th colspan=\"6\" halign=\"left\">Close</th>\n",
       "    </tr>\n",
       "    <tr>\n",
       "      <th></th>\n",
       "      <th>Symbols</th>\n",
       "      <th>ADBE</th>\n",
       "      <th>CSCO</th>\n",
       "      <th>GOOGL</th>\n",
       "      <th>INTC</th>\n",
       "      <th>MSFT</th>\n",
       "      <th>STLD</th>\n",
       "    </tr>\n",
       "    <tr>\n",
       "      <th>Attributes</th>\n",
       "      <th>Symbols</th>\n",
       "      <th></th>\n",
       "      <th></th>\n",
       "      <th></th>\n",
       "      <th></th>\n",
       "      <th></th>\n",
       "      <th></th>\n",
       "    </tr>\n",
       "  </thead>\n",
       "  <tbody>\n",
       "    <tr>\n",
       "      <th rowspan=\"6\" valign=\"top\">Close</th>\n",
       "      <th>ADBE</th>\n",
       "      <td>1.000000</td>\n",
       "      <td>0.860881</td>\n",
       "      <td>0.953275</td>\n",
       "      <td>0.896346</td>\n",
       "      <td>0.993962</td>\n",
       "      <td>0.663848</td>\n",
       "    </tr>\n",
       "    <tr>\n",
       "      <th>CSCO</th>\n",
       "      <td>0.860881</td>\n",
       "      <td>1.000000</td>\n",
       "      <td>0.893819</td>\n",
       "      <td>0.915409</td>\n",
       "      <td>0.839919</td>\n",
       "      <td>0.789070</td>\n",
       "    </tr>\n",
       "    <tr>\n",
       "      <th>GOOGL</th>\n",
       "      <td>0.953275</td>\n",
       "      <td>0.893819</td>\n",
       "      <td>1.000000</td>\n",
       "      <td>0.928872</td>\n",
       "      <td>0.942680</td>\n",
       "      <td>0.784710</td>\n",
       "    </tr>\n",
       "    <tr>\n",
       "      <th>INTC</th>\n",
       "      <td>0.896346</td>\n",
       "      <td>0.915409</td>\n",
       "      <td>0.928872</td>\n",
       "      <td>1.000000</td>\n",
       "      <td>0.889863</td>\n",
       "      <td>0.766534</td>\n",
       "    </tr>\n",
       "    <tr>\n",
       "      <th>MSFT</th>\n",
       "      <td>0.993962</td>\n",
       "      <td>0.839919</td>\n",
       "      <td>0.942680</td>\n",
       "      <td>0.889863</td>\n",
       "      <td>1.000000</td>\n",
       "      <td>0.613917</td>\n",
       "    </tr>\n",
       "    <tr>\n",
       "      <th>STLD</th>\n",
       "      <td>0.663848</td>\n",
       "      <td>0.789070</td>\n",
       "      <td>0.784710</td>\n",
       "      <td>0.766534</td>\n",
       "      <td>0.613917</td>\n",
       "      <td>1.000000</td>\n",
       "    </tr>\n",
       "  </tbody>\n",
       "</table>\n",
       "</div>"
      ],
      "text/plain": [
       "Attributes             Close                                                  \n",
       "Symbols                 ADBE      CSCO     GOOGL      INTC      MSFT      STLD\n",
       "Attributes Symbols                                                            \n",
       "Close      ADBE     1.000000  0.860881  0.953275  0.896346  0.993962  0.663848\n",
       "           CSCO     0.860881  1.000000  0.893819  0.915409  0.839919  0.789070\n",
       "           GOOGL    0.953275  0.893819  1.000000  0.928872  0.942680  0.784710\n",
       "           INTC     0.896346  0.915409  0.928872  1.000000  0.889863  0.766534\n",
       "           MSFT     0.993962  0.839919  0.942680  0.889863  1.000000  0.613917\n",
       "           STLD     0.663848  0.789070  0.784710  0.766534  0.613917  1.000000"
      ]
     },
     "execution_count": 17,
     "metadata": {},
     "output_type": "execute_result"
    }
   ],
   "source": [
    "df0 = df[df[\"cluster\"] == 0]\n",
    "group0_stocks=web.get_data_yahoo(df0,\n",
    "                                 start = \"2010-01-01\",\n",
    "                                 end = \"2020-12-30\") \n",
    "group0_stocks = group0_stocks[[\"Close\"]]\n",
    "print(\"Correlations of group 0:\")\n",
    "group0_stocks.corr()"
   ]
  },
  {
   "cell_type": "markdown",
   "id": "bebe48e6-d18e-45d5-93d2-582e2959094c",
   "metadata": {},
   "source": [
    "### QUESTION 6. SELECT PAIRS"
   ]
  },
  {
   "cell_type": "code",
   "execution_count": 18,
   "id": "30b85c14-bb10-4f96-8a80-ec22246b5b59",
   "metadata": {},
   "outputs": [],
   "source": [
    "#In each group, show a pair of stocks with the highest correlation value but less than 1."
   ]
  },
  {
   "cell_type": "code",
   "execution_count": 19,
   "id": "c4c06dd4-c10b-48f1-beba-0741eada407e",
   "metadata": {},
   "outputs": [],
   "source": [
    "def get_max_colre_pair(df):\n",
    "    pair= ()\n",
    "    df = df.corr()\n",
    "    df = df.where(np.triu(np.ones(df.shape), k = 1).astype(bool))\n",
    "    df = df.unstack().dropna()\n",
    "    df = df.sort_values(ascending = False)\n",
    "    pair = df.head(1).index[0]\n",
    "    return pair"
   ]
  },
  {
   "cell_type": "code",
   "execution_count": 20,
   "id": "f90a58b7-cb04-465f-9244-3dd9ecaa73bb",
   "metadata": {},
   "outputs": [
    {
     "name": "stdout",
     "output_type": "stream",
     "text": [
      "The pair stocks of group 1 is:\n",
      " ('LNT', 'AEP')\n"
     ]
    }
   ],
   "source": [
    "g1 = group1_stocks[\"Close\"].reset_index(drop = True).rename_axis(None, axis = 1)\n",
    "pair_tup1 = get_max_colre_pair(g1)\n",
    "print(\"The pair stocks of group 1 is:\\n\", pair_tup1)"
   ]
  },
  {
   "cell_type": "code",
   "execution_count": 21,
   "id": "8d7e4fae-7c9a-4024-b9b1-58a2d7eebd32",
   "metadata": {},
   "outputs": [
    {
     "name": "stdout",
     "output_type": "stream",
     "text": [
      "The pair stocks of group 0 is:\n",
      " ('MSFT', 'ADBE')\n"
     ]
    }
   ],
   "source": [
    "g0 = group0_stocks['Close'].reset_index(drop = True).rename_axis(None, axis = 1)\n",
    "pair_tup0 = get_max_colre_pair(g0)\n",
    "print(\"The pair stocks of group 0 is:\\n\", pair_tup0)"
   ]
  },
  {
   "cell_type": "markdown",
   "id": "07d1ec13-3e5d-4b88-88d7-7b0a52dd20fd",
   "metadata": {},
   "source": [
    "### END"
   ]
  }
 ],
 "metadata": {
  "kernelspec": {
   "display_name": "Python 3 (ipykernel)",
   "language": "python",
   "name": "python3"
  },
  "language_info": {
   "codemirror_mode": {
    "name": "ipython",
    "version": 3
   },
   "file_extension": ".py",
   "mimetype": "text/x-python",
   "name": "python",
   "nbconvert_exporter": "python",
   "pygments_lexer": "ipython3",
   "version": "3.9.12"
  }
 },
 "nbformat": 4,
 "nbformat_minor": 5
}
